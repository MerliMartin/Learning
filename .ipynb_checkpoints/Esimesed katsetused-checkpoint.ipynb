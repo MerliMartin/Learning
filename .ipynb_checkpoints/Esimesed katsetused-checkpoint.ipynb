{
 "cells": [
  {
   "cell_type": "code",
   "execution_count": 1,
   "id": "bce7fca0",
   "metadata": {},
   "outputs": [
    {
     "name": "stdout",
     "output_type": "stream",
     "text": [
      "Tere Jupyter!\n"
     ]
    },
    {
     "data": {
      "text/plain": [
       "10"
      ]
     },
     "execution_count": 1,
     "metadata": {},
     "output_type": "execute_result"
    }
   ],
   "source": [
    "print('Tere Jupyter!')\n",
    "3 + 7\n"
   ]
  },
  {
   "cell_type": "markdown",
   "id": "f41eacf1",
   "metadata": {},
   "source": [
    "- kasutasin funktsiooni `print`\n",
    "- liitsin kaks *täisarvu*\n",
    "- tähtsaim valem on $E=mc^2$"
   ]
  },
  {
   "cell_type": "code",
   "execution_count": 5,
   "id": "71d3456c",
   "metadata": {},
   "outputs": [
    {
     "data": {
      "text/plain": [
       "float"
      ]
     },
     "execution_count": 5,
     "metadata": {},
     "output_type": "execute_result"
    }
   ],
   "source": [
    "type(45.)"
   ]
  },
  {
   "cell_type": "code",
   "execution_count": 10,
   "id": "20cc2954",
   "metadata": {},
   "outputs": [
    {
     "data": {
      "text/plain": [
       "1.6e-19"
      ]
     },
     "execution_count": 10,
     "metadata": {},
     "output_type": "execute_result"
    }
   ],
   "source": [
    "3.14\n",
    "1.6e-19 # 1.6*(10**(-19)) - (ujukomaesitus) elektorni laeng (arvliteraal)"
   ]
  },
  {
   "cell_type": "code",
   "execution_count": 13,
   "id": "e04bb1b8",
   "metadata": {},
   "outputs": [
    {
     "data": {
      "text/plain": [
       "(7.5+8j)"
      ]
     },
     "execution_count": 13,
     "metadata": {},
     "output_type": "execute_result"
    }
   ],
   "source": [
    "7.5+8j # vaginaalarv"
   ]
  },
  {
   "cell_type": "code",
   "execution_count": 11,
   "id": "5d7ce9fa",
   "metadata": {},
   "outputs": [
    {
     "data": {
      "text/plain": [
       "(7.5+8j)"
      ]
     },
     "execution_count": 11,
     "metadata": {},
     "output_type": "execute_result"
    }
   ],
   "source": [
    "complex(7.5, 8)"
   ]
  },
  {
   "cell_type": "code",
   "execution_count": 14,
   "id": "53725673",
   "metadata": {},
   "outputs": [
    {
     "data": {
      "text/plain": [
       "2"
      ]
     },
     "execution_count": 14,
     "metadata": {},
     "output_type": "execute_result"
    }
   ],
   "source": [
    "7//3"
   ]
  },
  {
   "cell_type": "code",
   "execution_count": 16,
   "id": "602063c7",
   "metadata": {},
   "outputs": [
    {
     "data": {
      "text/plain": [
       "1"
      ]
     },
     "execution_count": 16,
     "metadata": {},
     "output_type": "execute_result"
    }
   ],
   "source": [
    "7%3"
   ]
  },
  {
   "cell_type": "code",
   "execution_count": 17,
   "id": "0634bf18",
   "metadata": {},
   "outputs": [],
   "source": [
    "import math"
   ]
  },
  {
   "cell_type": "code",
   "execution_count": 18,
   "id": "05f5c207",
   "metadata": {},
   "outputs": [
    {
     "data": {
      "text/plain": [
       "2.5066282746310002"
      ]
     },
     "execution_count": 18,
     "metadata": {},
     "output_type": "execute_result"
    }
   ],
   "source": [
    "math.sqrt(2*math.pi)"
   ]
  },
  {
   "cell_type": "code",
   "execution_count": 19,
   "id": "1b889082",
   "metadata": {},
   "outputs": [
    {
     "data": {
      "text/plain": [
       "3.141592653589793"
      ]
     },
     "execution_count": 19,
     "metadata": {},
     "output_type": "execute_result"
    }
   ],
   "source": [
    "math.pi"
   ]
  },
  {
   "cell_type": "code",
   "execution_count": 23,
   "id": "b15ff6e6",
   "metadata": {},
   "outputs": [],
   "source": [
    "from math import *"
   ]
  },
  {
   "cell_type": "code",
   "execution_count": 24,
   "id": "8ae53238",
   "metadata": {},
   "outputs": [
    {
     "data": {
      "text/plain": [
       "3.141592653589793"
      ]
     },
     "execution_count": 24,
     "metadata": {},
     "output_type": "execute_result"
    }
   ],
   "source": [
    "pi"
   ]
  },
  {
   "cell_type": "code",
   "execution_count": 26,
   "id": "342dc8e0",
   "metadata": {},
   "outputs": [
    {
     "data": {
      "text/plain": [
       "2.8284271247461903"
      ]
     },
     "execution_count": 26,
     "metadata": {},
     "output_type": "execute_result"
    }
   ],
   "source": [
    "sqrt(8)"
   ]
  },
  {
   "cell_type": "code",
   "execution_count": 31,
   "id": "e13dc5d9",
   "metadata": {},
   "outputs": [],
   "source": [
    "a, b, c = 2, 7, -5  # tuple ehk ennik"
   ]
  },
  {
   "cell_type": "code",
   "execution_count": 32,
   "id": "06dd9e18",
   "metadata": {},
   "outputs": [
    {
     "data": {
      "text/plain": [
       "2"
      ]
     },
     "execution_count": 32,
     "metadata": {},
     "output_type": "execute_result"
    }
   ],
   "source": [
    "a"
   ]
  },
  {
   "cell_type": "code",
   "execution_count": 34,
   "id": "514f8f27",
   "metadata": {},
   "outputs": [
    {
     "data": {
      "text/plain": [
       "(0.6084952830141508, -4.10849528301415)"
      ]
     },
     "execution_count": 34,
     "metadata": {},
     "output_type": "execute_result"
    }
   ],
   "source": [
    "D = b*b - 4*a*c\n",
    "if D > 0:\n",
    "    D = sqrt(D)\n",
    "    x = (-b +D) / (2*a), (-b- D) / (2*a)\n",
    "elif D < 0:\n",
    "    x = None\n",
    "else:\n",
    "    x = -b / (2*a)\n",
    "    \n",
    "x"
   ]
  },
  {
   "cell_type": "code",
   "execution_count": 35,
   "id": "a181dea3",
   "metadata": {},
   "outputs": [
    {
     "name": "stdout",
     "output_type": "stream",
     "text": [
      "x1 = 0.608\n",
      "x2 = -4.108\n"
     ]
    }
   ],
   "source": [
    "if x is None:\n",
    "    print('Lahendid puuduvad')\n",
    "elif isinstance(x, float):\n",
    "    print('x = %.3f' % x)\n",
    "else:\n",
    "    print('x1 = %.3f\\nx2 = %.3f' % x)"
   ]
  },
  {
   "cell_type": "code",
   "execution_count": null,
   "id": "38a632fe",
   "metadata": {},
   "outputs": [],
   "source": []
  }
 ],
 "metadata": {
  "kernelspec": {
   "display_name": "Python 3 (ipykernel)",
   "language": "python",
   "name": "python3"
  },
  "language_info": {
   "codemirror_mode": {
    "name": "ipython",
    "version": 3
   },
   "file_extension": ".py",
   "mimetype": "text/x-python",
   "name": "python",
   "nbconvert_exporter": "python",
   "pygments_lexer": "ipython3",
   "version": "3.10.5"
  },
  "latex_envs": {
   "LaTeX_envs_menu_present": true,
   "autoclose": true,
   "autocomplete": true,
   "bibliofile": "biblio.bib",
   "cite_by": "apalike",
   "current_citInitial": 1,
   "eqLabelWithNumbers": true,
   "eqNumInitial": 1,
   "hotkeys": {
    "equation": "Ctrl-E",
    "itemize": "Ctrl-I"
   },
   "labels_anchors": false,
   "latex_user_defs": false,
   "report_style_numbering": false,
   "user_envs_cfg": false
  },
  "toc": {
   "base_numbering": 1,
   "nav_menu": {},
   "number_sections": true,
   "sideBar": true,
   "skip_h1_title": false,
   "title_cell": "Table of Contents",
   "title_sidebar": "Contents",
   "toc_cell": false,
   "toc_position": {},
   "toc_section_display": true,
   "toc_window_display": false
  }
 },
 "nbformat": 4,
 "nbformat_minor": 5
}
